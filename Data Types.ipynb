{
  "cells": [
    {
      "cell_type": "markdown",
      "metadata": {
        "id": "W0wGLTwFiLXx"
      },
      "source": [
        "# Data Types and Operations"
      ]
    },
    {
      "cell_type": "markdown",
      "metadata": {
        "id": "aZwkl9h7iLX8"
      },
      "source": [
        "## Fundamental Data Types"
      ]
    },
    {
      "cell_type": "markdown",
      "metadata": {
        "id": "ZX1IlBkIiLYA"
      },
      "source": [
        "### Booleans"
      ]
    },
    {
      "cell_type": "code",
      "execution_count": 2,
      "metadata": {
        "id": "CRSLdTJWiLYB",
        "outputId": "7cdbe81e-25ed-42e6-f5b9-e1e5f2508572",
        "colab": {
          "base_uri": "https://localhost:8080/"
        }
      },
      "outputs": [
        {
          "output_type": "execute_result",
          "data": {
            "text/plain": [
              "True"
            ]
          },
          "metadata": {},
          "execution_count": 2
        }
      ],
      "source": [
        "True"
      ]
    },
    {
      "cell_type": "code",
      "source": [
        "True == False"
      ],
      "metadata": {
        "id": "dp9srpa4iPET",
        "outputId": "ad963302-28a6-45b8-c9c7-ce190b593b8c",
        "colab": {
          "base_uri": "https://localhost:8080/"
        }
      },
      "execution_count": 3,
      "outputs": [
        {
          "output_type": "execute_result",
          "data": {
            "text/plain": [
              "False"
            ]
          },
          "metadata": {},
          "execution_count": 3
        }
      ]
    },
    {
      "cell_type": "code",
      "execution_count": 4,
      "metadata": {
        "id": "y5bRJ6bGiLYG",
        "outputId": "2e7bbab1-ad8b-4a37-9756-783d1e59ef06",
        "colab": {
          "base_uri": "https://localhost:8080/"
        }
      },
      "outputs": [
        {
          "output_type": "execute_result",
          "data": {
            "text/plain": [
              "False"
            ]
          },
          "metadata": {},
          "execution_count": 4
        }
      ],
      "source": [
        "False"
      ]
    },
    {
      "cell_type": "markdown",
      "metadata": {
        "id": "rWpsYC7fiLYH"
      },
      "source": [
        "### Integers"
      ]
    },
    {
      "cell_type": "markdown",
      "metadata": {
        "id": "reXgOQypiLYK"
      },
      "source": [
        "Any whole number (1,2,3,4,...)"
      ]
    },
    {
      "cell_type": "code",
      "execution_count": null,
      "metadata": {
        "id": "sWKUYVAFiLYN",
        "outputId": "3ce90357-fc7e-4124-fb6b-14575ca12a4d"
      },
      "outputs": [
        {
          "data": {
            "text/plain": [
              "int"
            ]
          },
          "execution_count": 1,
          "metadata": {},
          "output_type": "execute_result"
        }
      ],
      "source": [
        "type(10)"
      ]
    },
    {
      "cell_type": "markdown",
      "metadata": {
        "id": "tJStNV2SiLYQ"
      },
      "source": [
        "### Floats"
      ]
    },
    {
      "cell_type": "markdown",
      "metadata": {
        "id": "ZZCJiRWIiLYS"
      },
      "source": [
        "Any number with a decimal (floating) point"
      ]
    },
    {
      "cell_type": "code",
      "execution_count": null,
      "metadata": {
        "id": "TxwthsISiLYT",
        "outputId": "e00ddc6b-9969-414b-eded-17330cd20195"
      },
      "outputs": [
        {
          "data": {
            "text/plain": [
              "float"
            ]
          },
          "execution_count": 398,
          "metadata": {},
          "output_type": "execute_result"
        }
      ],
      "source": [
        "pi = 3.14\n",
        "type(pi)"
      ]
    },
    {
      "cell_type": "markdown",
      "metadata": {
        "id": "rcoFTrUgiLYV"
      },
      "source": [
        "### Strings"
      ]
    },
    {
      "cell_type": "markdown",
      "metadata": {
        "id": "VdW5H3COiLYW"
      },
      "source": [
        "Anything contained within single, double, or triple quotes. "
      ]
    },
    {
      "cell_type": "code",
      "execution_count": null,
      "metadata": {
        "id": "LDBZ9nKqiLYX"
      },
      "outputs": [],
      "source": [
        "sentence = 'Hello, how are you?'"
      ]
    },
    {
      "cell_type": "code",
      "execution_count": null,
      "metadata": {
        "id": "O5v3_jFaiLYX",
        "outputId": "fa9e4e67-7863-4d58-f383-d15bdfcea8d5"
      },
      "outputs": [
        {
          "data": {
            "text/plain": [
              "str"
            ]
          },
          "execution_count": 401,
          "metadata": {},
          "output_type": "execute_result"
        }
      ],
      "source": [
        "type(sentence)"
      ]
    },
    {
      "cell_type": "code",
      "execution_count": null,
      "metadata": {
        "id": "5JCtbVOYiLYY",
        "outputId": "e5ad281c-c00b-47b4-dd0d-05c031032014"
      },
      "outputs": [
        {
          "data": {
            "text/plain": [
              "str"
            ]
          },
          "execution_count": 403,
          "metadata": {},
          "output_type": "execute_result"
        }
      ],
      "source": [
        "looks_like_an_integer = \"25\"\n",
        "type(looks_like_an_integer)"
      ]
    },
    {
      "cell_type": "markdown",
      "metadata": {
        "id": "GPZfrqP3iLYZ"
      },
      "source": [
        "## Operators"
      ]
    },
    {
      "cell_type": "markdown",
      "metadata": {
        "id": "3KbJMUiCiLYa"
      },
      "source": [
        "### Arithmetic Operators"
      ]
    },
    {
      "cell_type": "code",
      "execution_count": null,
      "metadata": {
        "id": "mPBnY0y5iLYa",
        "outputId": "1bc7792b-f7ef-4e5a-9a5f-b8ab6bb3e54d"
      },
      "outputs": [
        {
          "data": {
            "text/plain": [
              "5"
            ]
          },
          "execution_count": 365,
          "metadata": {},
          "output_type": "execute_result"
        }
      ],
      "source": [
        "2 + 3 # Addition"
      ]
    },
    {
      "cell_type": "code",
      "execution_count": null,
      "metadata": {
        "id": "P0vlJpJdiLYb",
        "outputId": "620cfd8b-be58-4441-d982-da5665acbc2e"
      },
      "outputs": [
        {
          "data": {
            "text/plain": [
              "'Hello World'"
            ]
          },
          "execution_count": 366,
          "metadata": {},
          "output_type": "execute_result"
        }
      ],
      "source": [
        "'Hello' + ' World' # Works on strings too!"
      ]
    },
    {
      "cell_type": "code",
      "execution_count": null,
      "metadata": {
        "id": "I9MKQL22iLYc",
        "outputId": "8e3399ec-a635-43e7-dbb8-1cc476ba35ee"
      },
      "outputs": [
        {
          "data": {
            "text/plain": [
              "3"
            ]
          },
          "execution_count": 368,
          "metadata": {},
          "output_type": "execute_result"
        }
      ],
      "source": [
        "10 - 7 # Subtraction"
      ]
    },
    {
      "cell_type": "code",
      "execution_count": null,
      "metadata": {
        "id": "v8jAztSJiLYd",
        "outputId": "9487a565-23f9-43f3-8446-d6505c65c3b7"
      },
      "outputs": [
        {
          "data": {
            "text/plain": [
              "20"
            ]
          },
          "execution_count": 370,
          "metadata": {},
          "output_type": "execute_result"
        }
      ],
      "source": [
        "4 * 5 # Multiplication"
      ]
    },
    {
      "cell_type": "code",
      "execution_count": null,
      "metadata": {
        "id": "i2-IfJpbiLYe",
        "outputId": "1ae615ca-5f45-4417-f246-490ed92d3fc6"
      },
      "outputs": [
        {
          "data": {
            "text/plain": [
              "'Go On Go On Go On Go On Go On '"
            ]
          },
          "execution_count": 528,
          "metadata": {},
          "output_type": "execute_result"
        }
      ],
      "source": [
        "'Go On ' * 5 # Multiplication works on strings too!"
      ]
    },
    {
      "cell_type": "code",
      "execution_count": null,
      "metadata": {
        "id": "10xlP6wEiLYe",
        "outputId": "a873cbeb-c9a9-4e42-b92a-b0e057ac645c"
      },
      "outputs": [
        {
          "data": {
            "text/plain": [
              "2.0"
            ]
          },
          "execution_count": 360,
          "metadata": {},
          "output_type": "execute_result"
        }
      ],
      "source": [
        "8 / 4 # Division - Notice how it returns a float, even for whole numbers"
      ]
    },
    {
      "cell_type": "code",
      "execution_count": null,
      "metadata": {
        "id": "skTVEgJiiLYf",
        "outputId": "cf616a32-baf2-477e-9787-53e2b81983bc"
      },
      "outputs": [
        {
          "data": {
            "text/plain": [
              "4"
            ]
          },
          "execution_count": 361,
          "metadata": {},
          "output_type": "execute_result"
        }
      ],
      "source": [
        "9 // 2 # Floor Division - Number of full divisions; discards the remainder"
      ]
    },
    {
      "cell_type": "code",
      "execution_count": null,
      "metadata": {
        "id": "_bjNqdH9iLYg",
        "outputId": "806f87f7-88b7-4e6a-f0fe-e29b55450720"
      },
      "outputs": [
        {
          "data": {
            "text/plain": [
              "1"
            ]
          },
          "execution_count": 372,
          "metadata": {},
          "output_type": "execute_result"
        }
      ],
      "source": [
        "9 % 2 # The remainder after division – Useful for finding odd numbers"
      ]
    },
    {
      "cell_type": "code",
      "execution_count": null,
      "metadata": {
        "id": "JZH0FY9DiLYh",
        "outputId": "eb35f0ef-a2db-408d-8574-5a78717babbd"
      },
      "outputs": [
        {
          "data": {
            "text/plain": [
              "16"
            ]
          },
          "execution_count": 373,
          "metadata": {},
          "output_type": "execute_result"
        }
      ],
      "source": [
        "4 ** 2 # Exponent – Raises to the power of"
      ]
    },
    {
      "cell_type": "markdown",
      "metadata": {
        "id": "JeTskgeriLYh"
      },
      "source": [
        "### Assignment Operators"
      ]
    },
    {
      "cell_type": "code",
      "execution_count": null,
      "metadata": {
        "id": "IdVjem5diLYi"
      },
      "outputs": [],
      "source": [
        "x = 10         # Assigning a number\n",
        "colour = 'Red' # Assigning a string"
      ]
    },
    {
      "cell_type": "code",
      "execution_count": null,
      "metadata": {
        "id": "GUTokt27iLYi",
        "outputId": "a59eacc3-9a72-4d44-8aed-17808e3a0640"
      },
      "outputs": [
        {
          "name": "stdout",
          "output_type": "stream",
          "text": [
            "2\n"
          ]
        }
      ],
      "source": [
        "# To make a counter\n",
        "i = 1      # Start at 1\n",
        "i = i + 1  # Add 1 to it\n",
        "print(i)   # Print out the result"
      ]
    },
    {
      "cell_type": "code",
      "execution_count": null,
      "metadata": {
        "id": "Ei_w5kc6iLYj",
        "outputId": "e8b2d4ed-8b71-4877-a78d-16160f088e4f"
      },
      "outputs": [
        {
          "name": "stdout",
          "output_type": "stream",
          "text": [
            "3\n"
          ]
        }
      ],
      "source": [
        "i += 1     # We can use this shorthand for combining Addition + Assignment\n",
        "print(i)"
      ]
    },
    {
      "cell_type": "code",
      "execution_count": null,
      "metadata": {
        "id": "q2BTOc9ziLYj",
        "outputId": "cbf010e8-eb0e-40d0-d942-2c8430db1a3a"
      },
      "outputs": [
        {
          "name": "stdout",
          "output_type": "stream",
          "text": [
            "6\n"
          ]
        }
      ],
      "source": [
        "i *= 2   # Works for other arithmetic operators too\n",
        "print(i)"
      ]
    },
    {
      "cell_type": "markdown",
      "metadata": {
        "id": "iiTOP7iziLYk"
      },
      "source": [
        "### Boolean Operators"
      ]
    },
    {
      "cell_type": "markdown",
      "metadata": {
        "id": "xqDnAoMsiLYk"
      },
      "source": [
        "Think of these like you are asking a question"
      ]
    },
    {
      "cell_type": "code",
      "execution_count": null,
      "metadata": {
        "id": "--FS9RfpiLYk",
        "outputId": "82288b54-8ae3-485c-9212-6663c417c4ad"
      },
      "outputs": [
        {
          "data": {
            "text/plain": [
              "False"
            ]
          },
          "execution_count": 385,
          "metadata": {},
          "output_type": "execute_result"
        }
      ],
      "source": [
        "x > 10  # Is x greater than 10?"
      ]
    },
    {
      "cell_type": "code",
      "execution_count": null,
      "metadata": {
        "id": "zVudVjv-iLYl",
        "outputId": "d606ce19-0ac3-43ad-f4d8-409d61493b0b"
      },
      "outputs": [
        {
          "data": {
            "text/plain": [
              "True"
            ]
          },
          "execution_count": 392,
          "metadata": {},
          "output_type": "execute_result"
        }
      ],
      "source": [
        "x >= 10 # Greater than, or equal to"
      ]
    },
    {
      "cell_type": "code",
      "execution_count": null,
      "metadata": {
        "id": "ASslODCLiLYm",
        "outputId": "8d8101ca-d8d7-422a-dd7b-d752e80abe34"
      },
      "outputs": [
        {
          "data": {
            "text/plain": [
              "True"
            ]
          },
          "execution_count": 395,
          "metadata": {},
          "output_type": "execute_result"
        }
      ],
      "source": [
        "x == 10 # We have already used equals (=) for assignment, so we have to use double equals (==)"
      ]
    },
    {
      "cell_type": "code",
      "execution_count": null,
      "metadata": {
        "id": "Gbb86M8NiLYn",
        "outputId": "1972388d-50c2-4a5b-d6f2-819dbb746984"
      },
      "outputs": [
        {
          "data": {
            "text/plain": [
              "True"
            ]
          },
          "execution_count": 4,
          "metadata": {},
          "output_type": "execute_result"
        }
      ],
      "source": [
        "x != 1  # The exclamation mark means not"
      ]
    },
    {
      "cell_type": "markdown",
      "metadata": {
        "id": "uVjLJBqyiLYo"
      },
      "source": [
        "### Logical Operators"
      ]
    },
    {
      "cell_type": "code",
      "execution_count": null,
      "metadata": {
        "id": "n2hoNHXMiLYo"
      },
      "outputs": [],
      "source": [
        "x = 15"
      ]
    },
    {
      "cell_type": "code",
      "execution_count": null,
      "metadata": {
        "id": "xXONBgKwiLYp",
        "outputId": "ce328b0e-97c4-40a8-9056-9e8b6fb98ec6"
      },
      "outputs": [
        {
          "data": {
            "text/plain": [
              "True"
            ]
          },
          "execution_count": 14,
          "metadata": {},
          "output_type": "execute_result"
        }
      ],
      "source": [
        "x > 10 and x < 20 # In an \"and\" operation, both statements must be true"
      ]
    },
    {
      "cell_type": "code",
      "execution_count": null,
      "metadata": {
        "id": "ySH46pu0iLYq"
      },
      "outputs": [],
      "source": [
        "day = 'Saturday'"
      ]
    },
    {
      "cell_type": "code",
      "execution_count": null,
      "metadata": {
        "id": "ilPozsjMiLYr",
        "outputId": "0e101587-193a-4551-c078-4c19044e748e"
      },
      "outputs": [
        {
          "data": {
            "text/plain": [
              "True"
            ]
          },
          "execution_count": 15,
          "metadata": {},
          "output_type": "execute_result"
        }
      ],
      "source": [
        "day == 'Saturday' or day == 'Sunday' # In an \"or\" operation, either statement needs to be true"
      ]
    },
    {
      "cell_type": "code",
      "execution_count": null,
      "metadata": {
        "id": "GGMQpt1biLYr",
        "outputId": "f4f3906a-5525-452d-9683-caf5f5222b54"
      },
      "outputs": [
        {
          "data": {
            "text/plain": [
              "False"
            ]
          },
          "execution_count": 16,
          "metadata": {},
          "output_type": "execute_result"
        }
      ],
      "source": [
        "not True # The \"not\" operation swaps True and False"
      ]
    },
    {
      "cell_type": "markdown",
      "metadata": {
        "id": "m7cDk5lYiLYs"
      },
      "source": [
        "## Collection Data Types"
      ]
    },
    {
      "cell_type": "markdown",
      "metadata": {
        "id": "9A2cSk2KiLYs"
      },
      "source": [
        "Two types of collection data types: Those arranged in order, and those arranged by a key. Tuple and Lists have an order; these are sequence types"
      ]
    },
    {
      "cell_type": "markdown",
      "metadata": {
        "id": "sOG2P6ouiLYs"
      },
      "source": [
        "### Tuple"
      ]
    },
    {
      "cell_type": "code",
      "execution_count": null,
      "metadata": {
        "id": "wUZP-dZFiLYt",
        "outputId": "92e98825-95e6-44bf-c792-b83aef8545b6"
      },
      "outputs": [
        {
          "data": {
            "text/plain": [
              "'Sun'"
            ]
          },
          "execution_count": 406,
          "metadata": {},
          "output_type": "execute_result"
        }
      ],
      "source": [
        "weekend = ('Sat','Sun')  # Tuples are created using round brackets ()\n",
        "weekend[1]               # We use the location in the sequence to retrieve values"
      ]
    },
    {
      "cell_type": "code",
      "execution_count": null,
      "metadata": {
        "id": "m5_C7FCAiLYt",
        "outputId": "dc573e24-27c1-4abc-96d8-2e188e3a30b7"
      },
      "outputs": [
        {
          "ename": "TypeError",
          "evalue": "'tuple' object does not support item assignment",
          "output_type": "error",
          "traceback": [
            "\u001b[0;31m---------------------------------------------------------------------------\u001b[0m",
            "\u001b[0;31mTypeError\u001b[0m                                 Traceback (most recent call last)",
            "\u001b[0;32m<ipython-input-407-49a67a429926>\u001b[0m in \u001b[0;36m<module>\u001b[0;34m\u001b[0m\n\u001b[0;32m----> 1\u001b[0;31m \u001b[0mweekend\u001b[0m\u001b[0;34m[\u001b[0m\u001b[0;36m1\u001b[0m\u001b[0;34m]\u001b[0m \u001b[0;34m=\u001b[0m \u001b[0;34m'Mon'\u001b[0m       \u001b[0;31m# Tuples do not support item assignment\u001b[0m\u001b[0;34m\u001b[0m\u001b[0;34m\u001b[0m\u001b[0m\n\u001b[0m",
            "\u001b[0;31mTypeError\u001b[0m: 'tuple' object does not support item assignment"
          ]
        }
      ],
      "source": [
        "weekend[1] = 'Mon'       # Tuples do not support item assignment"
      ]
    },
    {
      "cell_type": "markdown",
      "metadata": {
        "id": "zV6mlV-wiLYu"
      },
      "source": [
        "### List"
      ]
    },
    {
      "cell_type": "code",
      "execution_count": null,
      "metadata": {
        "id": "flwUrS16iLYu",
        "outputId": "4e05b0e1-a213-4b96-b5f9-2910b8fed4f3"
      },
      "outputs": [
        {
          "data": {
            "text/plain": [
              "['Thur', 'Tue', 'Wed']"
            ]
          },
          "execution_count": 408,
          "metadata": {},
          "output_type": "execute_result"
        }
      ],
      "source": [
        "weekday = ['Mon','Tue','Wed']  # Lists are created using square brackets []\n",
        "weekday[0] = 'Thur'            # Also accessed by location, but do support re-assignment\n",
        "weekday"
      ]
    },
    {
      "cell_type": "markdown",
      "metadata": {
        "id": "5euKlT2TiLYv"
      },
      "source": [
        "### Dictionary"
      ]
    },
    {
      "cell_type": "markdown",
      "metadata": {
        "id": "Aw4e0CYqiLYw"
      },
      "source": [
        "Since values in a dictionary do not have a sequance, we define the key for each."
      ]
    },
    {
      "cell_type": "code",
      "execution_count": null,
      "metadata": {
        "id": "yazntJrXiLYx"
      },
      "outputs": [],
      "source": [
        "capitals  = {'Ireland':'Dublin', 'France':'Paris'}  # Dictionaries are defined using curly brackets {}"
      ]
    },
    {
      "cell_type": "code",
      "execution_count": null,
      "metadata": {
        "id": "ldsPry6ZiLYy",
        "outputId": "43fde64f-bb67-4a0f-8a4d-487e0935d289"
      },
      "outputs": [
        {
          "data": {
            "text/plain": [
              "'Dublin'"
            ]
          },
          "execution_count": 490,
          "metadata": {},
          "output_type": "execute_result"
        }
      ],
      "source": [
        "capitals['Ireland']  # We retrieve values using a key instead of an index. Make sure your key is unique!"
      ]
    },
    {
      "cell_type": "markdown",
      "metadata": {
        "id": "Q62KYIn4iLYz"
      },
      "source": [
        "### Strings"
      ]
    },
    {
      "cell_type": "code",
      "execution_count": null,
      "metadata": {
        "id": "847GqXx7iLYz",
        "outputId": "6acd3d58-9f32-425a-bd19-a35646d5c8d5"
      },
      "outputs": [
        {
          "data": {
            "text/plain": [
              "'t'"
            ]
          },
          "execution_count": 414,
          "metadata": {},
          "output_type": "execute_result"
        }
      ],
      "source": [
        "sentence = 'This is actually a collection'\n",
        "sentence[10]"
      ]
    },
    {
      "cell_type": "code",
      "execution_count": null,
      "metadata": {
        "id": "lqUvWazaiLY0",
        "outputId": "ebb23895-f326-432a-a947-c25060e1ccb2"
      },
      "outputs": [
        {
          "ename": "TypeError",
          "evalue": "'str' object does not support item assignment",
          "output_type": "error",
          "traceback": [
            "\u001b[0;31m---------------------------------------------------------------------------\u001b[0m",
            "\u001b[0;31mTypeError\u001b[0m                                 Traceback (most recent call last)",
            "\u001b[0;32m<ipython-input-415-3a5ece29a8f3>\u001b[0m in \u001b[0;36m<module>\u001b[0;34m\u001b[0m\n\u001b[0;32m----> 1\u001b[0;31m \u001b[0msentence\u001b[0m\u001b[0;34m[\u001b[0m\u001b[0;36m10\u001b[0m\u001b[0;34m]\u001b[0m \u001b[0;34m=\u001b[0m \u001b[0;34m'h'\u001b[0m \u001b[0;31m# Just don't try to reassign values\u001b[0m\u001b[0;34m\u001b[0m\u001b[0;34m\u001b[0m\u001b[0m\n\u001b[0m",
            "\u001b[0;31mTypeError\u001b[0m: 'str' object does not support item assignment"
          ]
        }
      ],
      "source": [
        "sentence[10] = 'h' # Just don't try to reassign values"
      ]
    },
    {
      "cell_type": "markdown",
      "metadata": {
        "id": "cQ9KD0pUiLY0"
      },
      "source": [
        "## Square Bracket Notation"
      ]
    },
    {
      "cell_type": "markdown",
      "metadata": {
        "id": "LYgxG7dWiLY0"
      },
      "source": [
        "We will start with a new list"
      ]
    },
    {
      "cell_type": "code",
      "execution_count": null,
      "metadata": {
        "id": "LvZyKp1HiLY1"
      },
      "outputs": [],
      "source": [
        "students = [1,2,3,4,5,6,7,8]"
      ]
    },
    {
      "cell_type": "markdown",
      "metadata": {
        "id": "GzBrHvaNiLY1"
      },
      "source": [
        "### Accessing Item"
      ]
    },
    {
      "cell_type": "code",
      "execution_count": null,
      "metadata": {
        "id": "8q03YmeiiLY1",
        "outputId": "5e19be4b-2a5f-4b9a-a273-568898abee5f"
      },
      "outputs": [
        {
          "data": {
            "text/plain": [
              "int"
            ]
          },
          "execution_count": 418,
          "metadata": {},
          "output_type": "execute_result"
        }
      ],
      "source": [
        "type(students[0])  # Using square brackets returns the individual item"
      ]
    },
    {
      "cell_type": "markdown",
      "metadata": {
        "id": "PRyONOpBiLY2"
      },
      "source": [
        "### Subsetting"
      ]
    },
    {
      "cell_type": "code",
      "execution_count": null,
      "metadata": {
        "id": "2pdYCDDjiLY2",
        "outputId": "f17ebbb9-7387-4677-dd63-b101618eb4bc"
      },
      "outputs": [
        {
          "data": {
            "text/plain": [
              "list"
            ]
          },
          "execution_count": 431,
          "metadata": {},
          "output_type": "execute_result"
        }
      ],
      "source": [
        "type(students[2:5])  # Subsetting returns a list. Pass in the start at end paramters"
      ]
    },
    {
      "cell_type": "code",
      "execution_count": null,
      "metadata": {
        "id": "2wz_vOb7iLY3",
        "outputId": "994ed3af-1b18-42d5-b83a-ae5cfe1a7c81"
      },
      "outputs": [
        {
          "data": {
            "text/plain": [
              "[1, 2, 3, 4, 5]"
            ]
          },
          "execution_count": 429,
          "metadata": {},
          "output_type": "execute_result"
        }
      ],
      "source": [
        "students[:5]      # Leaving out the first parameter means it will start at the start"
      ]
    },
    {
      "cell_type": "code",
      "execution_count": null,
      "metadata": {
        "id": "26F7OI6MiLY4",
        "outputId": "f27620fb-bdb8-425b-8847-196094bf9e2a"
      },
      "outputs": [
        {
          "data": {
            "text/plain": [
              "[3, 4, 5, 6, 7, 8]"
            ]
          },
          "execution_count": 432,
          "metadata": {},
          "output_type": "execute_result"
        }
      ],
      "source": [
        "students[2:]      # Leaving out the second parameter means it will run to the end"
      ]
    },
    {
      "cell_type": "code",
      "execution_count": null,
      "metadata": {
        "id": "du1pV6_1iLY5",
        "outputId": "471fd302-fa5f-42d0-d625-ac3b665649f2"
      },
      "outputs": [
        {
          "data": {
            "text/plain": [
              "[1, 2, 3, 4, 5, 6, 7, 8]"
            ]
          },
          "execution_count": 434,
          "metadata": {},
          "output_type": "execute_result"
        }
      ],
      "source": [
        "students[:]       # Leaving out both will return the full list"
      ]
    },
    {
      "cell_type": "code",
      "execution_count": null,
      "metadata": {
        "id": "lBzsOOfQiLY6",
        "outputId": "2ca3a78c-d487-4b31-ead3-63600c4e7b5e"
      },
      "outputs": [
        {
          "data": {
            "text/plain": [
              "[6, 7]"
            ]
          },
          "execution_count": 437,
          "metadata": {},
          "output_type": "execute_result"
        }
      ],
      "source": [
        "students[-3:-1]   # Negative values will count from the end of the list"
      ]
    },
    {
      "cell_type": "code",
      "execution_count": null,
      "metadata": {
        "id": "6kut5ZeoiLY7",
        "outputId": "da46db90-a3a0-4857-da40-3984716f828d"
      },
      "outputs": [
        {
          "data": {
            "text/plain": [
              "[1, 3, 5, 7]"
            ]
          },
          "execution_count": 440,
          "metadata": {},
          "output_type": "execute_result"
        }
      ],
      "source": [
        "students[::2]     # A third parameter can be passed to set the step size"
      ]
    },
    {
      "cell_type": "markdown",
      "metadata": {
        "id": "ECmAncafiLY9"
      },
      "source": [
        "### Manipulating"
      ]
    },
    {
      "cell_type": "markdown",
      "metadata": {
        "id": "QBLUH6feiLY-"
      },
      "source": [
        "We can use the assignment operations from before on lists too"
      ]
    },
    {
      "cell_type": "code",
      "execution_count": null,
      "metadata": {
        "id": "hSFpMJIRiLY-",
        "outputId": "bb65bd6c-8381-4aaf-b261-21b30dba9ed5"
      },
      "outputs": [
        {
          "data": {
            "text/plain": [
              "[1, 2, 3, 4, 5, 6, 7, 8, 9, 10]"
            ]
          },
          "execution_count": 449,
          "metadata": {},
          "output_type": "execute_result"
        }
      ],
      "source": [
        "students += [9,10]\n",
        "students"
      ]
    },
    {
      "cell_type": "code",
      "execution_count": null,
      "metadata": {
        "id": "50XUSDitiLY_",
        "outputId": "127243a2-adaf-443a-cbd6-00eaf4da95bb"
      },
      "outputs": [
        {
          "data": {
            "text/plain": [
              "[1, 2, 3, 4, 5, 6, 7, 8, 9, 10, 1, 2, 3, 4, 5, 6, 7, 8, 9, 10]"
            ]
          },
          "execution_count": 450,
          "metadata": {},
          "output_type": "execute_result"
        }
      ],
      "source": [
        "students *= 2\n",
        "students"
      ]
    },
    {
      "cell_type": "markdown",
      "metadata": {
        "id": "-BgUNlTAiLZA"
      },
      "source": [
        "### Copying"
      ]
    },
    {
      "cell_type": "markdown",
      "metadata": {
        "id": "9y4zPDXEiLZB"
      },
      "source": [
        "This is a warning about copying lists"
      ]
    },
    {
      "cell_type": "code",
      "execution_count": null,
      "metadata": {
        "id": "wErfFnpuiLZB",
        "outputId": "8a98e8e5-35b4-40bd-9fe6-20097bb34d87"
      },
      "outputs": [
        {
          "data": {
            "text/plain": [
              "[1, 2, 3, 4, 6]"
            ]
          },
          "execution_count": 456,
          "metadata": {},
          "output_type": "execute_result"
        }
      ],
      "source": [
        "class_a = [1,2,3,4,6]  # Say I create a list \"class_a\"\n",
        "class_b = class_a      # And I want to create a copy of this list as \"class_b\"\n",
        "class_b                # And I even have a look at \"class_b\", and seems to be copied perfectly"
      ]
    },
    {
      "cell_type": "code",
      "execution_count": null,
      "metadata": {
        "id": "Cosx2QkxiLZC",
        "outputId": "ef9efcdc-c898-43da-b634-a0f15cf00977"
      },
      "outputs": [
        {
          "data": {
            "text/plain": [
              "[10, 2, 3, 4, 6]"
            ]
          },
          "execution_count": 459,
          "metadata": {},
          "output_type": "execute_result"
        }
      ],
      "source": [
        "class_a[0] = 10        # But if I change one of the values in \"class_a\"\n",
        "class_b                # And have a look at class_b, it is also changed here! We really are just pointing to \"class_a\""
      ]
    },
    {
      "cell_type": "code",
      "execution_count": null,
      "metadata": {
        "id": "WVWmOy89iLZD",
        "outputId": "03f44bd5-9be3-4958-a90a-693f8014d2d3"
      },
      "outputs": [
        {
          "data": {
            "text/plain": [
              "[1, 2, 3, 4, 6]"
            ]
          },
          "execution_count": 255,
          "metadata": {},
          "output_type": "execute_result"
        }
      ],
      "source": [
        "class_b = class_a[:]   # We can use our subsetting trick in future to create a proper copy"
      ]
    },
    {
      "cell_type": "code",
      "execution_count": null,
      "metadata": {
        "id": "IzybEQaUiLZE"
      },
      "outputs": [],
      "source": [
        "class_b = list(class_a) # Or this list() function"
      ]
    },
    {
      "cell_type": "markdown",
      "metadata": {
        "id": "smy-CEsDiLZE"
      },
      "source": [
        "## Conditional Statements"
      ]
    },
    {
      "cell_type": "markdown",
      "metadata": {
        "id": "V5KrpORliLZE"
      },
      "source": [
        "Conditional statements run depending on a Boolean statement. "
      ]
    },
    {
      "cell_type": "markdown",
      "metadata": {
        "id": "6gC8lngsiLZF"
      },
      "source": [
        "### If"
      ]
    },
    {
      "cell_type": "code",
      "execution_count": null,
      "metadata": {
        "id": "g6xmaiuxiLZF",
        "outputId": "eb639418-12e4-4205-f11a-c8668b79c989"
      },
      "outputs": [
        {
          "name": "stdout",
          "output_type": "stream",
          "text": [
            "x is 10\n"
          ]
        }
      ],
      "source": [
        "x = 10\n",
        "if x > 15:                # Here x > 15 is a Boolean statement. It will evaluate to False\n",
        "    print('x is large')\n",
        "elif x == 10:             # Here x == 10 is True. So the below statement executes\n",
        "    print('x is 10')\n",
        "elif x > 5:               # This is also True, but the statemetn has already been closed\n",
        "    print('x is medium')\n",
        "else:                     # This would catch anything not met by previous tests. Notice there is no Boolean test.\n",
        "    print('x is small')"
      ]
    },
    {
      "cell_type": "markdown",
      "metadata": {
        "id": "R1zWzn_EiLZG"
      },
      "source": [
        "### While"
      ]
    },
    {
      "cell_type": "markdown",
      "metadata": {
        "id": "g9WW75NXiLZG"
      },
      "source": [
        "This is our first loop. That means the statement will continually run until the statement turns False"
      ]
    },
    {
      "cell_type": "code",
      "execution_count": null,
      "metadata": {
        "id": "ZsjcCA5FiLZG",
        "outputId": "79bb091d-373f-49f6-81e1-f8e289766949"
      },
      "outputs": [
        {
          "name": "stdout",
          "output_type": "stream",
          "text": [
            "x is 1\n",
            "x is 2\n",
            "x is 3\n",
            "x is 4\n",
            "x is 5\n"
          ]
        }
      ],
      "source": [
        "x = 1                        # Start with x = 1\n",
        "while x < 6:                 # This test evaluates as True. It will keep revisiting this\n",
        "    print('x is ' + str(x))  # Print out whatever x is. (Notice: to add x to my sentence, I had to turn it into a string.)\n",
        "    x += 1                   # Make sure you are doing somethign to make x < 10 turn False. Or you will be stuck in a loop!"
      ]
    },
    {
      "cell_type": "markdown",
      "metadata": {
        "id": "K5eO8zLyiLZG"
      },
      "source": [
        "### For"
      ]
    },
    {
      "cell_type": "code",
      "execution_count": null,
      "metadata": {
        "id": "EBjPVcWtiLZH",
        "outputId": "04f8bc57-b635-4f6f-c1ec-b4553ce0c799"
      },
      "outputs": [
        {
          "name": "stdout",
          "output_type": "stream",
          "text": [
            "x is 1\n",
            "x is 2\n",
            "x is 3\n",
            "x is 4\n",
            "x is 5\n"
          ]
        }
      ],
      "source": [
        "for x in [1,2,3,4,5]:        # In for loops, you provide a object to iterate over. Much more stable!\n",
        "    print('x is ' + str(x)) "
      ]
    },
    {
      "cell_type": "code",
      "execution_count": null,
      "metadata": {
        "id": "Pgl1e2dOiLZH",
        "outputId": "16f84900-5f71-4eaf-d1ad-8dc0a4e27d95"
      },
      "outputs": [
        {
          "name": "stdout",
          "output_type": "stream",
          "text": [
            "x is 1\n",
            "x is 2\n",
            "x is 3\n",
            "x is 4\n",
            "x is 5\n"
          ]
        }
      ],
      "source": [
        "for x in range(1,6):        # If you don't have a list or object, you can create one using range() function\n",
        "    print('x is ' + str(x)) "
      ]
    },
    {
      "cell_type": "markdown",
      "metadata": {
        "id": "tgiBuHdeiLZH"
      },
      "source": [
        "## Functions"
      ]
    },
    {
      "cell_type": "markdown",
      "metadata": {
        "id": "9PphNXnriLZI"
      },
      "source": [
        "Functions are a way of packaging up code. They take some input (arguements), run some code (body), and then return a value"
      ]
    },
    {
      "cell_type": "code",
      "execution_count": null,
      "metadata": {
        "id": "FASx7xT_iLZI"
      },
      "outputs": [],
      "source": [
        "def sums_two(a, b):  # Here we take in two numbers, represented by \"a\" and \"b\"\n",
        "    total = a + b    # We assign the sum of these two numbers to \"total\"\n",
        "    return total     # And now we return this function as the variable \"total\""
      ]
    },
    {
      "cell_type": "code",
      "execution_count": null,
      "metadata": {
        "id": "uCSppTQViLZI",
        "outputId": "0c796ce9-c73a-489f-d6bd-bb7e70469486"
      },
      "outputs": [
        {
          "data": {
            "text/plain": [
              "30"
            ]
          },
          "execution_count": 476,
          "metadata": {},
          "output_type": "execute_result"
        }
      ],
      "source": [
        "sums_two(10,20)"
      ]
    },
    {
      "cell_type": "markdown",
      "metadata": {
        "id": "FWLN56fyiLZI"
      },
      "source": [
        "## Object-Oriented Programming (OOP)"
      ]
    },
    {
      "cell_type": "markdown",
      "metadata": {
        "id": "5WJftx40iLZJ"
      },
      "source": [
        "So far, we have covered off data types and functions. In Object-oriented Programming (OOP), data types and functions can be packaged up inside of objects. When inside an object, data types are called attributes and functions are called methods. You can get into them, by using a dot (.) Every object type has different attributes and methods associated with them, depending on what would be useful."
      ]
    },
    {
      "cell_type": "markdown",
      "metadata": {
        "id": "KmY4JXSgiLZJ"
      },
      "source": [
        "### Attributes"
      ]
    },
    {
      "cell_type": "markdown",
      "metadata": {
        "id": "LEklSGOZiLZK"
      },
      "source": [
        "None of the objects we created so far have attributes associated with them (data types packaged inside them). So we will revisit some attribtues later, when we have more complex data structures."
      ]
    },
    {
      "cell_type": "markdown",
      "metadata": {
        "id": "rkumpMZviLZK"
      },
      "source": [
        "### Methods"
      ]
    },
    {
      "cell_type": "markdown",
      "metadata": {
        "id": "d1KCWkuliLZK"
      },
      "source": [
        "For this example, we will take a string. In OOP it is considered an object with loads of useful functions (methods) packaged inside it."
      ]
    },
    {
      "cell_type": "code",
      "execution_count": null,
      "metadata": {
        "id": "XtHH753PiLZL",
        "outputId": "012f6bdf-d586-4bd6-bcb3-f4d7c6ef888b"
      },
      "outputs": [
        {
          "data": {
            "text/plain": [
              "'Hello'"
            ]
          },
          "execution_count": 496,
          "metadata": {},
          "output_type": "execute_result"
        }
      ],
      "source": [
        "'hello'.capitalize()  # Even though this is a string, it is an object with hidden methods inside it"
      ]
    },
    {
      "cell_type": "code",
      "execution_count": null,
      "metadata": {
        "id": "LCV6RmwniLZL",
        "outputId": "3c6b98d5-a42f-4356-a2c6-5fc584a17718"
      },
      "outputs": [
        {
          "data": {
            "text/plain": [
              "'CIAN'"
            ]
          },
          "execution_count": 495,
          "metadata": {},
          "output_type": "execute_result"
        }
      ],
      "source": [
        "name = 'Cian'  \n",
        "name.upper()   # This method turns the string to upper-case"
      ]
    },
    {
      "cell_type": "code",
      "execution_count": null,
      "metadata": {
        "id": "EMDwAP2viLZM",
        "outputId": "d70aacab-29ce-4ec7-b38e-3ad1cf674bf7"
      },
      "outputs": [
        {
          "data": {
            "text/plain": [
              "['10', '12', '89']"
            ]
          },
          "execution_count": 482,
          "metadata": {},
          "output_type": "execute_result"
        }
      ],
      "source": [
        "birthday = '10-12-89'  # Say we have a birthday give to us a string, but we want to know the month.\n",
        "birthday.split('-')    # The split() method will return a list, splitting out our string into separate elements"
      ]
    },
    {
      "cell_type": "code",
      "execution_count": null,
      "metadata": {
        "id": "NiDKcddZiLZM",
        "outputId": "6d46fca3-7c1d-4aad-fff2-e896ea33203a"
      },
      "outputs": [
        {
          "name": "stdout",
          "output_type": "stream",
          "text": [
            "12\n"
          ]
        }
      ],
      "source": [
        "day, month, year = birthday.split('-') # We can ever go as far as to unpack this list into three variables\n",
        "print(month)"
      ]
    },
    {
      "cell_type": "markdown",
      "metadata": {
        "id": "mAvUDxyeiLZN"
      },
      "source": [
        "## Packages"
      ]
    },
    {
      "cell_type": "markdown",
      "metadata": {
        "id": "ZhQk3ia1iLZN"
      },
      "source": [
        "We can now look at importing code into our project. This dot notation, for accessing methods inside in objects, can be used for accessing functions inside of packages."
      ]
    },
    {
      "cell_type": "code",
      "execution_count": null,
      "metadata": {
        "id": "Vuocr4AWiLZO",
        "outputId": "15bdae3c-d20f-4c71-cea4-347357f2d063"
      },
      "outputs": [
        {
          "data": {
            "text/plain": [
              "5.5"
            ]
          },
          "execution_count": 502,
          "metadata": {},
          "output_type": "execute_result"
        }
      ],
      "source": [
        "import numpy         # Here we are importing a chunk of code called Numpy (Numerical Python). It is full of useful functions\n",
        "numpy.mean(students) # This function will get the average of our list"
      ]
    },
    {
      "cell_type": "code",
      "execution_count": null,
      "metadata": {
        "id": "k3c1KbY1iLZP",
        "outputId": "3b3e8cbe-1545-4b9c-8299-ce3c7ed9ef20"
      },
      "outputs": [
        {
          "data": {
            "text/plain": [
              "10"
            ]
          },
          "execution_count": 503,
          "metadata": {},
          "output_type": "execute_result"
        }
      ],
      "source": [
        "import numpy as np  # It is very common to give these packages an alias, here \"np\" is used\n",
        "np.max(students)    # This function will get the max value from our list"
      ]
    },
    {
      "cell_type": "markdown",
      "metadata": {
        "id": "-ez7AE2liLZP"
      },
      "source": [
        "## Numpy"
      ]
    },
    {
      "cell_type": "markdown",
      "metadata": {
        "id": "qTyYA2ofiLZP"
      },
      "source": [
        "Remember when we tried to run our operations on our lists. We could only treat it like a sequence or a word (double the whole thing, or tack values on to the end of it). But we couldn't operate on the elements of it. Converting our list into a NumPy array will allow us to do all those operations we looked at at the start of the lecture."
      ]
    },
    {
      "cell_type": "code",
      "execution_count": null,
      "metadata": {
        "id": "86EjQasiiLZP",
        "outputId": "d9ffe79f-042e-4b60-c237-c263ba06e9a6"
      },
      "outputs": [
        {
          "data": {
            "text/plain": [
              "array([1, 2, 3, 4, 5, 6, 7, 8])"
            ]
          },
          "execution_count": 507,
          "metadata": {},
          "output_type": "execute_result"
        }
      ],
      "source": [
        "students = [1,2,3,4,5,6,7,8]      # Let's define our list again\n",
        "student_arr = np.array(students)   # Using the array() function from our NumPy package\n",
        "student_arr                       # Looks identical, excepts it is called array"
      ]
    },
    {
      "cell_type": "markdown",
      "metadata": {
        "id": "zj33xnRviLZQ"
      },
      "source": [
        "### Arithmetic Operations"
      ]
    },
    {
      "cell_type": "code",
      "execution_count": null,
      "metadata": {
        "id": "umQAtma6iLZQ",
        "outputId": "89cefcdf-eb3d-44d2-acca-eddb01bf8343"
      },
      "outputs": [
        {
          "data": {
            "text/plain": [
              "array([ 2,  4,  6,  8, 10, 12, 14, 16])"
            ]
          },
          "execution_count": 513,
          "metadata": {},
          "output_type": "execute_result"
        }
      ],
      "source": [
        "student_arr * 2   # Except this time, doubling it doesn't double the lenght of it, it doubles each element in it"
      ]
    },
    {
      "cell_type": "code",
      "execution_count": null,
      "metadata": {
        "id": "zY1XDNJeiLZR",
        "outputId": "6966c028-d977-4a6a-f7b8-a631a0de9266"
      },
      "outputs": [
        {
          "data": {
            "text/plain": [
              "array([ 1,  4,  9, 16, 25, 36, 49, 64])"
            ]
          },
          "execution_count": 512,
          "metadata": {},
          "output_type": "execute_result"
        }
      ],
      "source": [
        "student_arr ** 2  # And all our arithmetic operators from before work on it. Here we square all the elements"
      ]
    },
    {
      "cell_type": "markdown",
      "metadata": {
        "id": "zCX4aFUliLZR"
      },
      "source": [
        "### Boolean Operations"
      ]
    },
    {
      "cell_type": "code",
      "execution_count": null,
      "metadata": {
        "id": "0CObWj1GiLZS",
        "outputId": "160727e1-c86d-436b-abda-20c12b788c0e"
      },
      "outputs": [
        {
          "data": {
            "text/plain": [
              "array([False, False, False,  True,  True,  True,  True,  True])"
            ]
          },
          "execution_count": 514,
          "metadata": {},
          "output_type": "execute_result"
        }
      ],
      "source": [
        "student_arr > 3    # The same goes for Boolean operations"
      ]
    },
    {
      "cell_type": "markdown",
      "metadata": {
        "id": "iYkruX5piLZS"
      },
      "source": [
        "### Filtering"
      ]
    },
    {
      "cell_type": "markdown",
      "metadata": {
        "id": "VCAQIcoQiLZT"
      },
      "source": [
        "A very handy use of the Boolean array above, is that we can pass it into our original array. This will knock out any values where the array is False"
      ]
    },
    {
      "cell_type": "code",
      "execution_count": null,
      "metadata": {
        "id": "F_0-PTCDiLZT",
        "outputId": "d8990146-49fe-4091-ad57-75a5b1c5bdba"
      },
      "outputs": [
        {
          "data": {
            "text/plain": [
              "array([4, 5, 6, 7, 8])"
            ]
          },
          "execution_count": 519,
          "metadata": {},
          "output_type": "execute_result"
        }
      ],
      "source": [
        "over_three = student_arr > 3  # Here we create our Boolean array, and set it as a variable\n",
        "student_arr[over_three]       # Passing this into our original array has the effect of filtering the values"
      ]
    },
    {
      "cell_type": "code",
      "execution_count": null,
      "metadata": {
        "id": "f-_KaIM-iLZU",
        "outputId": "3f9e2e74-8d0c-447b-fffb-cbb7d5acf4fc"
      },
      "outputs": [
        {
          "data": {
            "text/plain": [
              "array([4, 5, 6, 7, 8])"
            ]
          },
          "execution_count": 520,
          "metadata": {},
          "output_type": "execute_result"
        }
      ],
      "source": [
        "student_arr[student_arr > 3]  # This can all be done in one line. This is very common notation"
      ]
    },
    {
      "cell_type": "markdown",
      "metadata": {
        "id": "fOvb0iQtiLZU"
      },
      "source": [
        "### Methods and Attributes"
      ]
    },
    {
      "cell_type": "markdown",
      "metadata": {
        "id": "nAD2UfjGiLZU"
      },
      "source": [
        "Remember we said we would revisit attributes, once we got to a data structure that had them. NumPy arrays have attributes (data) associated with them. Notice there are no roundy brackets. That's because here we are retrieving a data type (integer, in this case), not calling a method."
      ]
    },
    {
      "cell_type": "code",
      "execution_count": null,
      "metadata": {
        "id": "8VJW7oPoiLZU",
        "outputId": "88e184ba-4857-40ef-b2d7-8aec997283c4"
      },
      "outputs": [
        {
          "data": {
            "text/plain": [
              "8"
            ]
          },
          "execution_count": 525,
          "metadata": {},
          "output_type": "execute_result"
        }
      ],
      "source": [
        "student_arr.size  # This attribute has the total number of elements in the list"
      ]
    },
    {
      "cell_type": "code",
      "execution_count": null,
      "metadata": {
        "id": "aird6-O5iLZV",
        "outputId": "f83a5c74-4045-44ed-c700-dadf1278441b"
      },
      "outputs": [
        {
          "data": {
            "text/plain": [
              "4.5"
            ]
          },
          "execution_count": 529,
          "metadata": {},
          "output_type": "execute_result"
        }
      ],
      "source": [
        "student_arr.mean() # This method returns the average of the list"
      ]
    },
    {
      "cell_type": "markdown",
      "metadata": {
        "id": "83la_hTOiLZV"
      },
      "source": [
        "## Two-Dimensional Objects"
      ]
    },
    {
      "cell_type": "markdown",
      "metadata": {
        "id": "RPeCdSH5iLZV"
      },
      "source": [
        "So far, all the objects we have been working with have been one dimensional. For instance, a list of numbers or names. What we really want to get to, is some sort of a table object. This is done by creating a two-dimensional object. It sounds complicated, but it just means layering what we have already. For instance, a list of lists."
      ]
    },
    {
      "cell_type": "markdown",
      "metadata": {
        "id": "Y_UowtHciLZW"
      },
      "source": [
        "### List of Lists"
      ]
    },
    {
      "cell_type": "markdown",
      "metadata": {
        "id": "KI_pUcbViLZW"
      },
      "source": [
        "Here we are going to create another list with three elements, but each element is going to be a list itself."
      ]
    },
    {
      "cell_type": "code",
      "execution_count": null,
      "metadata": {
        "id": "ExvZXqKTiLZW",
        "outputId": "532cef84-7eb8-4da5-b96c-211d4ae5a7a7"
      },
      "outputs": [
        {
          "data": {
            "text/plain": [
              "[[1, 2, 3], [4, 5, 6], [7, 8, 9]]"
            ]
          },
          "execution_count": 534,
          "metadata": {},
          "output_type": "execute_result"
        }
      ],
      "source": [
        "list_of_lists = [[1,2,3],[4,5,6],[7,8,9]]  # We can create a list of lists\n",
        "list_of_lists"
      ]
    },
    {
      "cell_type": "code",
      "execution_count": null,
      "metadata": {
        "id": "fBZMDKVpiLZX",
        "outputId": "a5538d20-72fa-4369-f94d-bc631667e558"
      },
      "outputs": [
        {
          "data": {
            "text/plain": [
              "[1, 2, 3]"
            ]
          },
          "execution_count": 535,
          "metadata": {},
          "output_type": "execute_result"
        }
      ],
      "source": [
        "list_of_lists[0]   # Using the square bracket notation we can access the first element (first list)"
      ]
    },
    {
      "cell_type": "code",
      "execution_count": null,
      "metadata": {
        "id": "hU46ucnBiLZX",
        "outputId": "88f0adba-5b74-40bf-c2c2-9ff1a570cbc5"
      },
      "outputs": [
        {
          "data": {
            "text/plain": [
              "3"
            ]
          },
          "execution_count": 540,
          "metadata": {},
          "output_type": "execute_result"
        }
      ],
      "source": [
        "list_of_lists[0][2] # We can chain these together to access individual elements"
      ]
    },
    {
      "cell_type": "markdown",
      "metadata": {
        "id": "2-8nU7uZiLZX"
      },
      "source": [
        "### 2D Arrays"
      ]
    },
    {
      "cell_type": "markdown",
      "metadata": {
        "id": "gpDrYMAziLZY"
      },
      "source": [
        "Using NumPy's array() function, we can turn our 2D lists into 2D arrays."
      ]
    },
    {
      "cell_type": "code",
      "execution_count": null,
      "metadata": {
        "id": "9PJYoEtWiLZY",
        "outputId": "19755cfa-f540-4780-fd4e-4b797aaafd08"
      },
      "outputs": [
        {
          "data": {
            "text/plain": [
              "array([[1, 2, 3],\n",
              "       [4, 5, 6],\n",
              "       [7, 8, 9]])"
            ]
          },
          "execution_count": 542,
          "metadata": {},
          "output_type": "execute_result"
        }
      ],
      "source": [
        "np.array(list_of_lists)  # This is immediately more recognisably two-dimentional"
      ]
    },
    {
      "cell_type": "code",
      "execution_count": null,
      "metadata": {
        "id": "5PuGFp3KiLZZ",
        "outputId": "89794aed-6ca0-4294-879f-d9336a01ef34"
      },
      "outputs": [
        {
          "data": {
            "text/plain": [
              "3"
            ]
          },
          "execution_count": 548,
          "metadata": {},
          "output_type": "execute_result"
        }
      ],
      "source": [
        "two_d_arr = np.array(list_of_lists)  # Converting out 2D list into a 2D Numpy array\n",
        "two_d_arr[0][2]  # Accessing items just like before"
      ]
    },
    {
      "cell_type": "code",
      "execution_count": null,
      "metadata": {
        "id": "gwjvlIx9iLZZ",
        "outputId": "29ace1b9-f638-444e-8e15-b7f52afc4a18"
      },
      "outputs": [
        {
          "data": {
            "text/plain": [
              "3"
            ]
          },
          "execution_count": 550,
          "metadata": {},
          "output_type": "execute_result"
        }
      ],
      "source": [
        "two_d_arr[0,2]   # But now we have a more convenient short-hand for it (rows, columns)"
      ]
    },
    {
      "cell_type": "code",
      "execution_count": null,
      "metadata": {
        "id": "MbbJvyIHiLZZ",
        "outputId": "85d22833-0adf-4cff-bb29-361a81411924"
      },
      "outputs": [
        {
          "data": {
            "text/plain": [
              "array([[1, 2],\n",
              "       [4, 5]])"
            ]
          },
          "execution_count": 552,
          "metadata": {},
          "output_type": "execute_result"
        }
      ],
      "source": [
        "two_d_arr[0:2,0:2] # And we can subset our rows and columns as before"
      ]
    },
    {
      "cell_type": "markdown",
      "metadata": {
        "id": "SbZid3qGiLZa"
      },
      "source": [
        "So this is great, we have a 2D object that we can slice and filter by rows and columns. And if your data is entirely numeric this could be just what you need. But what if we are dealing with more descriptive datasets. Like out `brics` table with information about country captials, populations, GDP, etc."
      ]
    },
    {
      "cell_type": "code",
      "execution_count": null,
      "metadata": {
        "id": "qalpaJaEiLZa",
        "outputId": "a6efcb25-136c-45b2-9981-6adde2085276"
      },
      "outputs": [
        {
          "data": {
            "text/plain": [
              "array([['BR', 'RU', 'IN', 'CH', 'SA'],\n",
              "       ['Brazil', 'Russia', 'India', 'China', 'South Africa'],\n",
              "       ['Brasilia', 'Moscow', 'New Dehli', 'Beijing', 'Pretoria'],\n",
              "       ['8.516', '17.1', '3.286', '9.597', '1.221'],\n",
              "       ['200.4', '143.5', '1252', '1357', '52.98']], dtype='<U12')"
            ]
          },
          "execution_count": 28,
          "metadata": {},
          "output_type": "execute_result"
        }
      ],
      "source": [
        "brics_list = [['BR','RU','IN','CH','SA'],\n",
        "              ['Brazil', 'Russia', 'India', 'China', 'South Africa'],\n",
        "              ['Brasilia', 'Moscow', 'New Dehli', 'Beijing', 'Pretoria'],\n",
        "              [8.516, 17.10, 3.286, 9.597, 1.221],\n",
        "              [200.4, 143.5, 1252, 1357, 52.98]]\n",
        "\n",
        "brics_arr = np.array(brics_list)\n",
        "brics_arr"
      ]
    },
    {
      "cell_type": "markdown",
      "metadata": {
        "id": "4JHK8XediLZa"
      },
      "source": [
        "If I want to pull out the capitals columns, I can do it the same as before, but I have to know which column number that is."
      ]
    },
    {
      "cell_type": "code",
      "execution_count": null,
      "metadata": {
        "id": "8kUDAzH6iLZa",
        "outputId": "1bcf6e89-416a-4d75-dad0-df5d429ea31d"
      },
      "outputs": [
        {
          "data": {
            "text/plain": [
              "array(['Brasilia', 'Moscow', 'New Dehli', 'Beijing', 'Pretoria'],\n",
              "      dtype='<U12')"
            ]
          },
          "execution_count": 29,
          "metadata": {},
          "output_type": "execute_result"
        }
      ],
      "source": [
        "brics_arr[2]"
      ]
    },
    {
      "cell_type": "markdown",
      "metadata": {
        "id": "O3w2NZkOiLZb"
      },
      "source": [
        "And to pull out the population of India, we would need to know India is the 3rd row."
      ]
    },
    {
      "cell_type": "code",
      "execution_count": null,
      "metadata": {
        "id": "l2K92CeviLZb",
        "outputId": "f2dc5038-5402-4a97-db8a-246a790c2961"
      },
      "outputs": [
        {
          "data": {
            "text/plain": [
              "'New Dehli'"
            ]
          },
          "execution_count": 30,
          "metadata": {},
          "output_type": "execute_result"
        }
      ],
      "source": [
        "brics_arr[2,2]"
      ]
    },
    {
      "cell_type": "markdown",
      "metadata": {
        "id": "g_z1250BiLZb"
      },
      "source": [
        "This could be fine for you, depending on the dataset. However, most of the time it would be great to be able to label our columns and rows. This would make it easier to pull out data from it. To do this, we take advantage of the dictionary!"
      ]
    },
    {
      "cell_type": "markdown",
      "metadata": {
        "id": "Q0mmAHz-iLZc"
      },
      "source": [
        "### Dictionary of Lists"
      ]
    },
    {
      "cell_type": "markdown",
      "metadata": {
        "id": "urWTL_uXiLZc"
      },
      "source": [
        "Dictionaries give us the ability to apply a label to our columns. This means we can access the columns by a word rather than just a number (as with arrays). "
      ]
    },
    {
      "cell_type": "code",
      "execution_count": null,
      "metadata": {
        "id": "evWo9KIdiLZc",
        "outputId": "9ec23090-8747-4ade-e1a8-0ea65ca5205b"
      },
      "outputs": [
        {
          "data": {
            "text/plain": [
              "{'label': ['BR', 'RU', 'IN', 'CH', 'SA'],\n",
              " 'country': ['Brazil', 'Russia', 'India', 'China', 'South Africa'],\n",
              " 'capital': ['Brasilia', 'Moscow', 'New Dehli', 'Beijing', 'Pretoria'],\n",
              " 'area': [8.516, 17.1, 3.286, 9.597, 1.221],\n",
              " 'population': [200.4, 143.5, 1252, 1357, 52.98]}"
            ]
          },
          "execution_count": 11,
          "metadata": {},
          "output_type": "execute_result"
        }
      ],
      "source": [
        "brics_dict = {'label':      ['BR','RU','IN','CH','SA'],\n",
        "              'country':    ['Brazil', 'Russia', 'India', 'China', 'South Africa'],\n",
        "              'capital':    ['Brasilia', 'Moscow', 'New Dehli', 'Beijing', 'Pretoria'],\n",
        "              'area':       [8.516, 17.10, 3.286, 9.597, 1.221],\n",
        "              'population': [200.4, 143.5, 1252, 1357, 52.98]}\n",
        "brics_dict"
      ]
    },
    {
      "cell_type": "markdown",
      "metadata": {
        "id": "dQaRsFjciLZd"
      },
      "source": [
        "From here we can create a sort of labelled array. This is called a DataFrame. Just like how a list of lists could be turned into an array, a dictionary of lists can be turned into a DataFrame. The package we will use to do this is called `Pandas`. "
      ]
    },
    {
      "cell_type": "markdown",
      "metadata": {
        "id": "1UP3C_9IiLZd"
      },
      "source": [
        "### DataFrames"
      ]
    },
    {
      "cell_type": "code",
      "execution_count": null,
      "metadata": {
        "id": "PI5V_ldFiLZd"
      },
      "outputs": [],
      "source": [
        "import pandas as pd"
      ]
    },
    {
      "cell_type": "code",
      "execution_count": null,
      "metadata": {
        "id": "8rfR51hmiLZd",
        "outputId": "0163b7eb-f8f4-42b3-b606-d2b8deb26c6f"
      },
      "outputs": [
        {
          "data": {
            "text/html": [
              "<div>\n",
              "<style scoped>\n",
              "    .dataframe tbody tr th:only-of-type {\n",
              "        vertical-align: middle;\n",
              "    }\n",
              "\n",
              "    .dataframe tbody tr th {\n",
              "        vertical-align: top;\n",
              "    }\n",
              "\n",
              "    .dataframe thead th {\n",
              "        text-align: right;\n",
              "    }\n",
              "</style>\n",
              "<table border=\"1\" class=\"dataframe\">\n",
              "  <thead>\n",
              "    <tr style=\"text-align: right;\">\n",
              "      <th></th>\n",
              "      <th>label</th>\n",
              "      <th>country</th>\n",
              "      <th>capital</th>\n",
              "      <th>area</th>\n",
              "      <th>population</th>\n",
              "    </tr>\n",
              "  </thead>\n",
              "  <tbody>\n",
              "    <tr>\n",
              "      <th>0</th>\n",
              "      <td>BR</td>\n",
              "      <td>Brazil</td>\n",
              "      <td>Brasilia</td>\n",
              "      <td>8.516</td>\n",
              "      <td>200.40</td>\n",
              "    </tr>\n",
              "    <tr>\n",
              "      <th>1</th>\n",
              "      <td>RU</td>\n",
              "      <td>Russia</td>\n",
              "      <td>Moscow</td>\n",
              "      <td>17.100</td>\n",
              "      <td>143.50</td>\n",
              "    </tr>\n",
              "    <tr>\n",
              "      <th>2</th>\n",
              "      <td>IN</td>\n",
              "      <td>India</td>\n",
              "      <td>New Dehli</td>\n",
              "      <td>3.286</td>\n",
              "      <td>1252.00</td>\n",
              "    </tr>\n",
              "    <tr>\n",
              "      <th>3</th>\n",
              "      <td>CH</td>\n",
              "      <td>China</td>\n",
              "      <td>Beijing</td>\n",
              "      <td>9.597</td>\n",
              "      <td>1357.00</td>\n",
              "    </tr>\n",
              "    <tr>\n",
              "      <th>4</th>\n",
              "      <td>SA</td>\n",
              "      <td>South Africa</td>\n",
              "      <td>Pretoria</td>\n",
              "      <td>1.221</td>\n",
              "      <td>52.98</td>\n",
              "    </tr>\n",
              "  </tbody>\n",
              "</table>\n",
              "</div>"
            ],
            "text/plain": [
              "  label       country    capital    area  population\n",
              "0    BR        Brazil   Brasilia   8.516      200.40\n",
              "1    RU        Russia     Moscow  17.100      143.50\n",
              "2    IN         India  New Dehli   3.286     1252.00\n",
              "3    CH         China    Beijing   9.597     1357.00\n",
              "4    SA  South Africa   Pretoria   1.221       52.98"
            ]
          },
          "execution_count": 13,
          "metadata": {},
          "output_type": "execute_result"
        }
      ],
      "source": [
        "brics_df = pd.DataFrame(brics_dict)\n",
        "brics_df"
      ]
    },
    {
      "cell_type": "markdown",
      "metadata": {
        "id": "LLxyiu7LiLZe"
      },
      "source": [
        "Finally, we have something that actually looks like a table! It is similar to the array from before, but we have labelled the columns. We can use these labels to access them (much like in a dictionary)."
      ]
    },
    {
      "cell_type": "code",
      "execution_count": null,
      "metadata": {
        "id": "VhZdMC3QiLZe",
        "outputId": "68caa9e0-da11-4888-e056-f4b933134515"
      },
      "outputs": [
        {
          "data": {
            "text/plain": [
              "0     Brasilia\n",
              "1       Moscow\n",
              "2    New Dehli\n",
              "3      Beijing\n",
              "4     Pretoria\n",
              "Name: capital, dtype: object"
            ]
          },
          "execution_count": 32,
          "metadata": {},
          "output_type": "execute_result"
        }
      ],
      "source": [
        "brics_df['capital']"
      ]
    },
    {
      "cell_type": "markdown",
      "metadata": {
        "id": "Uix5CPDCiLZe"
      },
      "source": [
        "Next week, we will dive deeper into DataFrames and the `Pandas` package."
      ]
    }
  ],
  "metadata": {
    "kernelspec": {
      "display_name": "Python 3",
      "language": "python",
      "name": "python3"
    },
    "language_info": {
      "codemirror_mode": {
        "name": "ipython",
        "version": 3
      },
      "file_extension": ".py",
      "mimetype": "text/x-python",
      "name": "python",
      "nbconvert_exporter": "python",
      "pygments_lexer": "ipython3",
      "version": "3.8.5"
    },
    "colab": {
      "provenance": []
    }
  },
  "nbformat": 4,
  "nbformat_minor": 0
}